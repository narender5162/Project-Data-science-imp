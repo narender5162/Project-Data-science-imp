{
  "nbformat": 4,
  "nbformat_minor": 0,
  "metadata": {
    "colab": {
      "provenance": [],
      "authorship_tag": "ABX9TyN+XZ45TGRAYU6xK8qfdkgl",
      "include_colab_link": true
    },
    "kernelspec": {
      "name": "python3",
      "display_name": "Python 3"
    },
    "language_info": {
      "name": "python"
    }
  },
  "cells": [
    {
      "cell_type": "markdown",
      "metadata": {
        "id": "view-in-github",
        "colab_type": "text"
      },
      "source": [
        "<a href=\"https://colab.research.google.com/github/narender5162/Project-Data-science-imp/blob/main/Project_Data_Science_impo.ipynb\" target=\"_parent\"><img src=\"https://colab.research.google.com/assets/colab-badge.svg\" alt=\"Open In Colab\"/></a>"
      ]
    },
    {
      "cell_type": "code",
      "execution_count": 51,
      "metadata": {
        "id": "J0Fzw1glLyUU"
      },
      "outputs": [],
      "source": [
        "#importing library\n",
        "import pandas as pd\n",
        "import numpy as np\n",
        "import seaborn as sns\n",
        "import matplotlib.pyplot as plt\n",
        "from plotly import express as px\n"
      ]
    },
    {
      "cell_type": "code",
      "source": [
        "from google.colab import drive\n",
        "drive.mount('/content/drive')"
      ],
      "metadata": {
        "colab": {
          "base_uri": "https://localhost:8080/"
        },
        "id": "U_Tx6GQcTI7y",
        "outputId": "06f088f7-a1b1-4add-d5ca-df0eebd03097"
      },
      "execution_count": 52,
      "outputs": [
        {
          "output_type": "stream",
          "name": "stdout",
          "text": [
            "Drive already mounted at /content/drive; to attempt to forcibly remount, call drive.mount(\"/content/drive\", force_remount=True).\n"
          ]
        }
      ]
    },
    {
      "cell_type": "markdown",
      "source": [
        "#Importing file"
      ],
      "metadata": {
        "id": "5FYRGhP6ePAr"
      }
    },
    {
      "cell_type": "code",
      "source": [
        "file_path = '/content/drive/MyDrive/international-visitors-london-raw.csv'"
      ],
      "metadata": {
        "id": "7tSLGuQFeNwQ"
      },
      "execution_count": 53,
      "outputs": []
    },
    {
      "cell_type": "code",
      "source": [
        "# Load dataset with encoding fix (handling special characters)\n",
        "df = pd.read_csv(file_path, encoding = \"ISO-8859-1\")\n"
      ],
      "metadata": {
        "id": "p74bK_OAelMZ"
      },
      "execution_count": 54,
      "outputs": []
    },
    {
      "cell_type": "code",
      "source": [
        "# Display the first few rows\n",
        "print (df.head())"
      ],
      "metadata": {
        "colab": {
          "base_uri": "https://localhost:8080/"
        },
        "id": "zqbPJK8agKif",
        "outputId": "3f696c1e-f368-4b78-c681-1318778ec9f8"
      },
      "execution_count": 55,
      "outputs": [
        {
          "output_type": "stream",
          "name": "stdout",
          "text": [
            "   year        quarter   market     dur_stay mode        purpose     area  \\\n",
            "0  2002  January-March  Belgium  1-3  nights  Air        Holiday   LONDON   \n",
            "1  2002  January-March  Belgium  1-3  nights  Air       Business   LONDON   \n",
            "2  2002  January-March  Belgium  1-3  nights  Air            VFR   LONDON   \n",
            "3  2002  January-March  Belgium  1-3  nights  Air  Miscellaneous   LONDON   \n",
            "4  2002  January-March  Belgium  1-3  nights  Sea       Business   LONDON   \n",
            "\n",
            "   Visits (000s)  Spend (£m)  Nights (000s)  sample  \n",
            "0       3.572186    0.969138       6.954456       5  \n",
            "1       9.284226    2.399577      12.604959      19  \n",
            "2       0.877182    0.089833       2.153128       3  \n",
            "3       0.163874    0.010160       0.163874       1  \n",
            "4       1.648670    0.016789       1.650300       1  \n"
          ]
        }
      ]
    },
    {
      "cell_type": "code",
      "source": [
        "# Display the last few rows\n",
        "print(df.tail())"
      ],
      "metadata": {
        "colab": {
          "base_uri": "https://localhost:8080/"
        },
        "id": "IVWqFBSBqNKh",
        "outputId": "ac23df36-5dc5-4670-b79c-ff69e56b4036"
      },
      "execution_count": 56,
      "outputs": [
        {
          "output_type": "stream",
          "name": "stdout",
          "text": [
            "        year        quarter        market     dur_stay mode        purpose  \\\n",
            "61457  2020P  January-March  Other Africa  4-7  nights  Air  Miscellaneous   \n",
            "61458  2020P  January-March  Other Africa  8-14 nights  Air        Holiday   \n",
            "61459  2020P  January-March  Other Africa  8-14 nights  Air            VFR   \n",
            "61460  2020P  January-March  Other Africa  15+  nights  Air        Holiday   \n",
            "61461  2020P  January-March  Other Africa  15+  nights  Air            VFR   \n",
            "\n",
            "          area  Visits (000s)  Spend (£m)  Nights (000s)  sample  \n",
            "61457   LONDON       1.695331    1.103167       8.831038       2  \n",
            "61458   LONDON       1.486972    2.022254       7.836555       1  \n",
            "61459   LONDON       2.416554    1.847152      63.894432       2  \n",
            "61460   LONDON       2.472653    1.006109      35.080377       2  \n",
            "61461   LONDON       4.124325    3.960705     134.909755       4  \n"
          ]
        }
      ]
    },
    {
      "cell_type": "code",
      "source": [
        "print(df.info())"
      ],
      "metadata": {
        "colab": {
          "base_uri": "https://localhost:8080/"
        },
        "id": "baDAhOFuvb9H",
        "outputId": "015835ed-33fd-4010-e09f-aad045fc2ec3"
      },
      "execution_count": 57,
      "outputs": [
        {
          "output_type": "stream",
          "name": "stdout",
          "text": [
            "<class 'pandas.core.frame.DataFrame'>\n",
            "RangeIndex: 61462 entries, 0 to 61461\n",
            "Data columns (total 11 columns):\n",
            " #   Column         Non-Null Count  Dtype  \n",
            "---  ------         --------------  -----  \n",
            " 0   year           61462 non-null  object \n",
            " 1   quarter        61462 non-null  object \n",
            " 2   market         61462 non-null  object \n",
            " 3   dur_stay       61462 non-null  object \n",
            " 4   mode           61462 non-null  object \n",
            " 5   purpose        61462 non-null  object \n",
            " 6   area           61462 non-null  object \n",
            " 7   Visits (000s)  61462 non-null  float64\n",
            " 8   Spend (£m)     61462 non-null  float64\n",
            " 9   Nights (000s)  61462 non-null  float64\n",
            " 10  sample         61462 non-null  int64  \n",
            "dtypes: float64(3), int64(1), object(7)\n",
            "memory usage: 5.2+ MB\n",
            "None\n"
          ]
        }
      ]
    },
    {
      "cell_type": "code",
      "source": [
        "# Data Cleaning\n",
        "# Standardize column names (remove spaces and special characters correctly)\n",
        "df.columns = (df.columns.str.strip()\n",
        "              .str.lower()\n",
        "              .str.replace(\" \", \"_\")\n",
        "              .str.replace(r\"[()]\", \"\", regex=True))  # Fix for FutureWarning\n",
        "\n",
        "# Convert 'year' to integer type (handle non-numeric values properly)\n",
        "df['year'] = pd.to_numeric(df['year'], errors='coerce')\n",
        "\n",
        "# Check for missing values\n",
        "missing_values = df.isnull().sum()\n",
        "\n",
        "# Check for duplicate rows\n",
        "duplicate_rows = df.duplicated().sum()\n",
        "\n",
        "# Display results\n",
        "missing_values, duplicate_rows\n"
      ],
      "metadata": {
        "colab": {
          "base_uri": "https://localhost:8080/"
        },
        "id": "kW684UwexKUj",
        "outputId": "809a5f80-9a68-461f-bf21-7d4e343e611a"
      },
      "execution_count": 58,
      "outputs": [
        {
          "output_type": "execute_result",
          "data": {
            "text/plain": [
              "(year           630\n",
              " quarter          0\n",
              " market           0\n",
              " dur_stay         0\n",
              " mode             0\n",
              " purpose          0\n",
              " area             0\n",
              " visits_000s      0\n",
              " spend_£m         0\n",
              " nights_000s      0\n",
              " sample           0\n",
              " dtype: int64,\n",
              " 0)"
            ]
          },
          "metadata": {},
          "execution_count": 58
        }
      ]
    },
    {
      "cell_type": "code",
      "source": [
        "# Check rows with missing 'year' values\n",
        "missing_year_rows = df[df['year'].isnull()]\n",
        "\n"
      ],
      "metadata": {
        "id": "xq0iDgUrxuDq"
      },
      "execution_count": 59,
      "outputs": []
    },
    {
      "cell_type": "code",
      "source": [
        "# Display sample rows with missing 'year'\n",
        "missing_year_rows.head()\n"
      ],
      "metadata": {
        "colab": {
          "base_uri": "https://localhost:8080/",
          "height": 313
        },
        "id": "e3S0_BvCyDVY",
        "outputId": "9be4ca51-17e6-4d90-f92b-7cd73ce2e0b0"
      },
      "execution_count": 60,
      "outputs": [
        {
          "output_type": "execute_result",
          "data": {
            "text/plain": [
              "       year        quarter   market     dur_stay mode        purpose     area  \\\n",
              "60832   NaN  January-March  Belgium  1-3  nights  Air        Holiday   LONDON   \n",
              "60833   NaN  January-March  Belgium  1-3  nights  Air       Business   LONDON   \n",
              "60834   NaN  January-March  Belgium  1-3  nights  Air            VFR   LONDON   \n",
              "60835   NaN  January-March  Belgium  1-3  nights  Air  Miscellaneous   LONDON   \n",
              "60836   NaN  January-March  Belgium  1-3  nights  Sea        Holiday   LONDON   \n",
              "\n",
              "       visits_000s  spend_£m  nights_000s  sample  \n",
              "60832     3.465766  1.224073     6.045668       3  \n",
              "60833     2.141452  0.294101     2.243731       3  \n",
              "60834     1.531162  0.482316     4.593487       1  \n",
              "60835     0.818672  0.078494     0.818672       2  \n",
              "60836     1.571382  0.047141     3.142765       1  "
            ],
            "text/html": [
              "\n",
              "  <div id=\"df-6c85f2c4-67be-4442-8a85-c140dcba8ddf\" class=\"colab-df-container\">\n",
              "    <div>\n",
              "<style scoped>\n",
              "    .dataframe tbody tr th:only-of-type {\n",
              "        vertical-align: middle;\n",
              "    }\n",
              "\n",
              "    .dataframe tbody tr th {\n",
              "        vertical-align: top;\n",
              "    }\n",
              "\n",
              "    .dataframe thead th {\n",
              "        text-align: right;\n",
              "    }\n",
              "</style>\n",
              "<table border=\"1\" class=\"dataframe\">\n",
              "  <thead>\n",
              "    <tr style=\"text-align: right;\">\n",
              "      <th></th>\n",
              "      <th>year</th>\n",
              "      <th>quarter</th>\n",
              "      <th>market</th>\n",
              "      <th>dur_stay</th>\n",
              "      <th>mode</th>\n",
              "      <th>purpose</th>\n",
              "      <th>area</th>\n",
              "      <th>visits_000s</th>\n",
              "      <th>spend_£m</th>\n",
              "      <th>nights_000s</th>\n",
              "      <th>sample</th>\n",
              "    </tr>\n",
              "  </thead>\n",
              "  <tbody>\n",
              "    <tr>\n",
              "      <th>60832</th>\n",
              "      <td>NaN</td>\n",
              "      <td>January-March</td>\n",
              "      <td>Belgium</td>\n",
              "      <td>1-3  nights</td>\n",
              "      <td>Air</td>\n",
              "      <td>Holiday</td>\n",
              "      <td>LONDON</td>\n",
              "      <td>3.465766</td>\n",
              "      <td>1.224073</td>\n",
              "      <td>6.045668</td>\n",
              "      <td>3</td>\n",
              "    </tr>\n",
              "    <tr>\n",
              "      <th>60833</th>\n",
              "      <td>NaN</td>\n",
              "      <td>January-March</td>\n",
              "      <td>Belgium</td>\n",
              "      <td>1-3  nights</td>\n",
              "      <td>Air</td>\n",
              "      <td>Business</td>\n",
              "      <td>LONDON</td>\n",
              "      <td>2.141452</td>\n",
              "      <td>0.294101</td>\n",
              "      <td>2.243731</td>\n",
              "      <td>3</td>\n",
              "    </tr>\n",
              "    <tr>\n",
              "      <th>60834</th>\n",
              "      <td>NaN</td>\n",
              "      <td>January-March</td>\n",
              "      <td>Belgium</td>\n",
              "      <td>1-3  nights</td>\n",
              "      <td>Air</td>\n",
              "      <td>VFR</td>\n",
              "      <td>LONDON</td>\n",
              "      <td>1.531162</td>\n",
              "      <td>0.482316</td>\n",
              "      <td>4.593487</td>\n",
              "      <td>1</td>\n",
              "    </tr>\n",
              "    <tr>\n",
              "      <th>60835</th>\n",
              "      <td>NaN</td>\n",
              "      <td>January-March</td>\n",
              "      <td>Belgium</td>\n",
              "      <td>1-3  nights</td>\n",
              "      <td>Air</td>\n",
              "      <td>Miscellaneous</td>\n",
              "      <td>LONDON</td>\n",
              "      <td>0.818672</td>\n",
              "      <td>0.078494</td>\n",
              "      <td>0.818672</td>\n",
              "      <td>2</td>\n",
              "    </tr>\n",
              "    <tr>\n",
              "      <th>60836</th>\n",
              "      <td>NaN</td>\n",
              "      <td>January-March</td>\n",
              "      <td>Belgium</td>\n",
              "      <td>1-3  nights</td>\n",
              "      <td>Sea</td>\n",
              "      <td>Holiday</td>\n",
              "      <td>LONDON</td>\n",
              "      <td>1.571382</td>\n",
              "      <td>0.047141</td>\n",
              "      <td>3.142765</td>\n",
              "      <td>1</td>\n",
              "    </tr>\n",
              "  </tbody>\n",
              "</table>\n",
              "</div>\n",
              "    <div class=\"colab-df-buttons\">\n",
              "\n",
              "  <div class=\"colab-df-container\">\n",
              "    <button class=\"colab-df-convert\" onclick=\"convertToInteractive('df-6c85f2c4-67be-4442-8a85-c140dcba8ddf')\"\n",
              "            title=\"Convert this dataframe to an interactive table.\"\n",
              "            style=\"display:none;\">\n",
              "\n",
              "  <svg xmlns=\"http://www.w3.org/2000/svg\" height=\"24px\" viewBox=\"0 -960 960 960\">\n",
              "    <path d=\"M120-120v-720h720v720H120Zm60-500h600v-160H180v160Zm220 220h160v-160H400v160Zm0 220h160v-160H400v160ZM180-400h160v-160H180v160Zm440 0h160v-160H620v160ZM180-180h160v-160H180v160Zm440 0h160v-160H620v160Z\"/>\n",
              "  </svg>\n",
              "    </button>\n",
              "\n",
              "  <style>\n",
              "    .colab-df-container {\n",
              "      display:flex;\n",
              "      gap: 12px;\n",
              "    }\n",
              "\n",
              "    .colab-df-convert {\n",
              "      background-color: #E8F0FE;\n",
              "      border: none;\n",
              "      border-radius: 50%;\n",
              "      cursor: pointer;\n",
              "      display: none;\n",
              "      fill: #1967D2;\n",
              "      height: 32px;\n",
              "      padding: 0 0 0 0;\n",
              "      width: 32px;\n",
              "    }\n",
              "\n",
              "    .colab-df-convert:hover {\n",
              "      background-color: #E2EBFA;\n",
              "      box-shadow: 0px 1px 2px rgba(60, 64, 67, 0.3), 0px 1px 3px 1px rgba(60, 64, 67, 0.15);\n",
              "      fill: #174EA6;\n",
              "    }\n",
              "\n",
              "    .colab-df-buttons div {\n",
              "      margin-bottom: 4px;\n",
              "    }\n",
              "\n",
              "    [theme=dark] .colab-df-convert {\n",
              "      background-color: #3B4455;\n",
              "      fill: #D2E3FC;\n",
              "    }\n",
              "\n",
              "    [theme=dark] .colab-df-convert:hover {\n",
              "      background-color: #434B5C;\n",
              "      box-shadow: 0px 1px 3px 1px rgba(0, 0, 0, 0.15);\n",
              "      filter: drop-shadow(0px 1px 2px rgba(0, 0, 0, 0.3));\n",
              "      fill: #FFFFFF;\n",
              "    }\n",
              "  </style>\n",
              "\n",
              "    <script>\n",
              "      const buttonEl =\n",
              "        document.querySelector('#df-6c85f2c4-67be-4442-8a85-c140dcba8ddf button.colab-df-convert');\n",
              "      buttonEl.style.display =\n",
              "        google.colab.kernel.accessAllowed ? 'block' : 'none';\n",
              "\n",
              "      async function convertToInteractive(key) {\n",
              "        const element = document.querySelector('#df-6c85f2c4-67be-4442-8a85-c140dcba8ddf');\n",
              "        const dataTable =\n",
              "          await google.colab.kernel.invokeFunction('convertToInteractive',\n",
              "                                                    [key], {});\n",
              "        if (!dataTable) return;\n",
              "\n",
              "        const docLinkHtml = 'Like what you see? Visit the ' +\n",
              "          '<a target=\"_blank\" href=https://colab.research.google.com/notebooks/data_table.ipynb>data table notebook</a>'\n",
              "          + ' to learn more about interactive tables.';\n",
              "        element.innerHTML = '';\n",
              "        dataTable['output_type'] = 'display_data';\n",
              "        await google.colab.output.renderOutput(dataTable, element);\n",
              "        const docLink = document.createElement('div');\n",
              "        docLink.innerHTML = docLinkHtml;\n",
              "        element.appendChild(docLink);\n",
              "      }\n",
              "    </script>\n",
              "  </div>\n",
              "\n",
              "\n",
              "<div id=\"df-5da74467-ae52-472f-a378-2ea6b0ab8acf\">\n",
              "  <button class=\"colab-df-quickchart\" onclick=\"quickchart('df-5da74467-ae52-472f-a378-2ea6b0ab8acf')\"\n",
              "            title=\"Suggest charts\"\n",
              "            style=\"display:none;\">\n",
              "\n",
              "<svg xmlns=\"http://www.w3.org/2000/svg\" height=\"24px\"viewBox=\"0 0 24 24\"\n",
              "     width=\"24px\">\n",
              "    <g>\n",
              "        <path d=\"M19 3H5c-1.1 0-2 .9-2 2v14c0 1.1.9 2 2 2h14c1.1 0 2-.9 2-2V5c0-1.1-.9-2-2-2zM9 17H7v-7h2v7zm4 0h-2V7h2v10zm4 0h-2v-4h2v4z\"/>\n",
              "    </g>\n",
              "</svg>\n",
              "  </button>\n",
              "\n",
              "<style>\n",
              "  .colab-df-quickchart {\n",
              "      --bg-color: #E8F0FE;\n",
              "      --fill-color: #1967D2;\n",
              "      --hover-bg-color: #E2EBFA;\n",
              "      --hover-fill-color: #174EA6;\n",
              "      --disabled-fill-color: #AAA;\n",
              "      --disabled-bg-color: #DDD;\n",
              "  }\n",
              "\n",
              "  [theme=dark] .colab-df-quickchart {\n",
              "      --bg-color: #3B4455;\n",
              "      --fill-color: #D2E3FC;\n",
              "      --hover-bg-color: #434B5C;\n",
              "      --hover-fill-color: #FFFFFF;\n",
              "      --disabled-bg-color: #3B4455;\n",
              "      --disabled-fill-color: #666;\n",
              "  }\n",
              "\n",
              "  .colab-df-quickchart {\n",
              "    background-color: var(--bg-color);\n",
              "    border: none;\n",
              "    border-radius: 50%;\n",
              "    cursor: pointer;\n",
              "    display: none;\n",
              "    fill: var(--fill-color);\n",
              "    height: 32px;\n",
              "    padding: 0;\n",
              "    width: 32px;\n",
              "  }\n",
              "\n",
              "  .colab-df-quickchart:hover {\n",
              "    background-color: var(--hover-bg-color);\n",
              "    box-shadow: 0 1px 2px rgba(60, 64, 67, 0.3), 0 1px 3px 1px rgba(60, 64, 67, 0.15);\n",
              "    fill: var(--button-hover-fill-color);\n",
              "  }\n",
              "\n",
              "  .colab-df-quickchart-complete:disabled,\n",
              "  .colab-df-quickchart-complete:disabled:hover {\n",
              "    background-color: var(--disabled-bg-color);\n",
              "    fill: var(--disabled-fill-color);\n",
              "    box-shadow: none;\n",
              "  }\n",
              "\n",
              "  .colab-df-spinner {\n",
              "    border: 2px solid var(--fill-color);\n",
              "    border-color: transparent;\n",
              "    border-bottom-color: var(--fill-color);\n",
              "    animation:\n",
              "      spin 1s steps(1) infinite;\n",
              "  }\n",
              "\n",
              "  @keyframes spin {\n",
              "    0% {\n",
              "      border-color: transparent;\n",
              "      border-bottom-color: var(--fill-color);\n",
              "      border-left-color: var(--fill-color);\n",
              "    }\n",
              "    20% {\n",
              "      border-color: transparent;\n",
              "      border-left-color: var(--fill-color);\n",
              "      border-top-color: var(--fill-color);\n",
              "    }\n",
              "    30% {\n",
              "      border-color: transparent;\n",
              "      border-left-color: var(--fill-color);\n",
              "      border-top-color: var(--fill-color);\n",
              "      border-right-color: var(--fill-color);\n",
              "    }\n",
              "    40% {\n",
              "      border-color: transparent;\n",
              "      border-right-color: var(--fill-color);\n",
              "      border-top-color: var(--fill-color);\n",
              "    }\n",
              "    60% {\n",
              "      border-color: transparent;\n",
              "      border-right-color: var(--fill-color);\n",
              "    }\n",
              "    80% {\n",
              "      border-color: transparent;\n",
              "      border-right-color: var(--fill-color);\n",
              "      border-bottom-color: var(--fill-color);\n",
              "    }\n",
              "    90% {\n",
              "      border-color: transparent;\n",
              "      border-bottom-color: var(--fill-color);\n",
              "    }\n",
              "  }\n",
              "</style>\n",
              "\n",
              "  <script>\n",
              "    async function quickchart(key) {\n",
              "      const quickchartButtonEl =\n",
              "        document.querySelector('#' + key + ' button');\n",
              "      quickchartButtonEl.disabled = true;  // To prevent multiple clicks.\n",
              "      quickchartButtonEl.classList.add('colab-df-spinner');\n",
              "      try {\n",
              "        const charts = await google.colab.kernel.invokeFunction(\n",
              "            'suggestCharts', [key], {});\n",
              "      } catch (error) {\n",
              "        console.error('Error during call to suggestCharts:', error);\n",
              "      }\n",
              "      quickchartButtonEl.classList.remove('colab-df-spinner');\n",
              "      quickchartButtonEl.classList.add('colab-df-quickchart-complete');\n",
              "    }\n",
              "    (() => {\n",
              "      let quickchartButtonEl =\n",
              "        document.querySelector('#df-5da74467-ae52-472f-a378-2ea6b0ab8acf button');\n",
              "      quickchartButtonEl.style.display =\n",
              "        google.colab.kernel.accessAllowed ? 'block' : 'none';\n",
              "    })();\n",
              "  </script>\n",
              "</div>\n",
              "\n",
              "    </div>\n",
              "  </div>\n"
            ],
            "application/vnd.google.colaboratory.intrinsic+json": {
              "type": "dataframe",
              "variable_name": "missing_year_rows",
              "summary": "{\n  \"name\": \"missing_year_rows\",\n  \"rows\": 630,\n  \"fields\": [\n    {\n      \"column\": \"year\",\n      \"properties\": {\n        \"dtype\": \"number\",\n        \"std\": null,\n        \"min\": null,\n        \"max\": null,\n        \"num_unique_values\": 0,\n        \"samples\": [],\n        \"semantic_type\": \"\",\n        \"description\": \"\"\n      }\n    },\n    {\n      \"column\": \"quarter\",\n      \"properties\": {\n        \"dtype\": \"category\",\n        \"num_unique_values\": 1,\n        \"samples\": [],\n        \"semantic_type\": \"\",\n        \"description\": \"\"\n      }\n    },\n    {\n      \"column\": \"market\",\n      \"properties\": {\n        \"dtype\": \"category\",\n        \"num_unique_values\": 62,\n        \"samples\": [],\n        \"semantic_type\": \"\",\n        \"description\": \"\"\n      }\n    },\n    {\n      \"column\": \"dur_stay\",\n      \"properties\": {\n        \"dtype\": \"category\",\n        \"num_unique_values\": 4,\n        \"samples\": [],\n        \"semantic_type\": \"\",\n        \"description\": \"\"\n      }\n    },\n    {\n      \"column\": \"mode\",\n      \"properties\": {\n        \"dtype\": \"category\",\n        \"num_unique_values\": 3,\n        \"samples\": [],\n        \"semantic_type\": \"\",\n        \"description\": \"\"\n      }\n    },\n    {\n      \"column\": \"purpose\",\n      \"properties\": {\n        \"dtype\": \"category\",\n        \"num_unique_values\": 5,\n        \"samples\": [],\n        \"semantic_type\": \"\",\n        \"description\": \"\"\n      }\n    },\n    {\n      \"column\": \"area\",\n      \"properties\": {\n        \"dtype\": \"category\",\n        \"num_unique_values\": 1,\n        \"samples\": [],\n        \"semantic_type\": \"\",\n        \"description\": \"\"\n      }\n    },\n    {\n      \"column\": \"visits_000s\",\n      \"properties\": {\n        \"dtype\": \"number\",\n        \"std\": 10.02387396954188,\n        \"min\": 0.249354824,\n        \"max\": 95.18004775,\n        \"num_unique_values\": 588,\n        \"samples\": [],\n        \"semantic_type\": \"\",\n        \"description\": \"\"\n      }\n    },\n    {\n      \"column\": \"spend_\\u00a3m\",\n      \"properties\": {\n        \"dtype\": \"number\",\n        \"std\": 6.8289192777590815,\n        \"min\": 0.0,\n        \"max\": 62.65009528,\n        \"num_unique_values\": 624,\n        \"samples\": [],\n        \"semantic_type\": \"\",\n        \"description\": \"\"\n      }\n    },\n    {\n      \"column\": \"nights_000s\",\n      \"properties\": {\n        \"dtype\": \"number\",\n        \"std\": 63.45081256957153,\n        \"min\": 0.335090756,\n        \"max\": 987.3139038,\n        \"num_unique_values\": 625,\n        \"samples\": [],\n        \"semantic_type\": \"\",\n        \"description\": \"\"\n      }\n    },\n    {\n      \"column\": \"sample\",\n      \"properties\": {\n        \"dtype\": \"number\",\n        \"std\": 8,\n        \"min\": 1,\n        \"max\": 98,\n        \"num_unique_values\": 30,\n        \"samples\": [],\n        \"semantic_type\": \"\",\n        \"description\": \"\"\n      }\n    }\n  ]\n}"
            }
          },
          "metadata": {},
          "execution_count": 60
        }
      ]
    },
    {
      "cell_type": "code",
      "source": [
        "# Drop rows where 'year' is missing\n",
        "df_cleaned = df.dropna(subset=['year'])\n",
        "\n",
        "# Confirm that missing values are handled\n",
        "missing_values_after = df_cleaned.isnull().sum()\n",
        "\n",
        "# Display updated dataset info\n",
        "df_cleaned_info = df_cleaned.info()\n",
        "\n",
        "missing_values_after, df_cleaned_info\n"
      ],
      "metadata": {
        "colab": {
          "base_uri": "https://localhost:8080/"
        },
        "id": "crZyl2zGy4B1",
        "outputId": "89d3f836-aec8-4514-8606-f4e067b0849d"
      },
      "execution_count": 61,
      "outputs": [
        {
          "output_type": "stream",
          "name": "stdout",
          "text": [
            "<class 'pandas.core.frame.DataFrame'>\n",
            "Index: 60832 entries, 0 to 60831\n",
            "Data columns (total 11 columns):\n",
            " #   Column       Non-Null Count  Dtype  \n",
            "---  ------       --------------  -----  \n",
            " 0   year         60832 non-null  float64\n",
            " 1   quarter      60832 non-null  object \n",
            " 2   market       60832 non-null  object \n",
            " 3   dur_stay     60832 non-null  object \n",
            " 4   mode         60832 non-null  object \n",
            " 5   purpose      60832 non-null  object \n",
            " 6   area         60832 non-null  object \n",
            " 7   visits_000s  60832 non-null  float64\n",
            " 8   spend_£m     60832 non-null  float64\n",
            " 9   nights_000s  60832 non-null  float64\n",
            " 10  sample       60832 non-null  int64  \n",
            "dtypes: float64(4), int64(1), object(6)\n",
            "memory usage: 5.6+ MB\n"
          ]
        },
        {
          "output_type": "execute_result",
          "data": {
            "text/plain": [
              "(year           0\n",
              " quarter        0\n",
              " market         0\n",
              " dur_stay       0\n",
              " mode           0\n",
              " purpose        0\n",
              " area           0\n",
              " visits_000s    0\n",
              " spend_£m       0\n",
              " nights_000s    0\n",
              " sample         0\n",
              " dtype: int64,\n",
              " None)"
            ]
          },
          "metadata": {},
          "execution_count": 61
        }
      ]
    },
    {
      "cell_type": "code",
      "source": [
        "# Convert 'year' to integer type\n",
        "df_cleaned = df.dropna(subset=['year']).copy()  # Best practice\n",
        "df_cleaned['year'] = df_cleaned['year'].astype(int)  # Safe modification\n",
        "\n"
      ],
      "metadata": {
        "id": "GEBKcjN4zICR"
      },
      "execution_count": 62,
      "outputs": []
    },
    {
      "cell_type": "code",
      "source": [
        "# Check unique values in categorical columns for inconsistencies\n",
        "categorical_columns = ['quarter', 'market', 'dur_stay', 'mode', 'purpose', 'area']\n",
        "unique_values = {col: df_cleaned[col].unique() for col in categorical_columns}\n",
        "\n",
        "unique_values\n"
      ],
      "metadata": {
        "colab": {
          "base_uri": "https://localhost:8080/"
        },
        "id": "1i6hlAnMzow7",
        "outputId": "6b292c6a-2b65-4c04-9999-2165c292587c"
      },
      "execution_count": 63,
      "outputs": [
        {
          "output_type": "execute_result",
          "data": {
            "text/plain": [
              "{'quarter': array(['January-March', 'April-June', 'July-September',\n",
              "        'October-December'], dtype=object),\n",
              " 'market': array(['Belgium', 'Luxembourg', 'France', 'Germany', 'Italy',\n",
              "        'Netherlands', 'Denmark', 'Greece', 'Spain', 'Portugal', 'Austria',\n",
              "        'Sweden', 'Finland', 'Irish Republic', 'Turkey', 'Switzerland',\n",
              "        'Norway', 'Iceland', 'Czech Republic', 'Poland', 'Hungary',\n",
              "        'Russia', 'Other Western Europe', 'Other Eastern Europe', 'USA',\n",
              "        'Canada', 'Mexico', 'Brazil', 'Argentina',\n",
              "        'Other Central & South America', 'Hong Kong', 'Malaysia',\n",
              "        'Thailand', 'Singapore', 'Taiwan', 'China', 'Other Asia', 'Japan',\n",
              "        'South Korea', 'Australia', 'New Zealand', 'United Arab Emirates',\n",
              "        'Saudi Arabia', 'Kuwait', 'Other Middle East', 'Egypt', 'Israel',\n",
              "        'India', 'Pakistan', 'South Africa', 'Other Southern Africa',\n",
              "        'Nigeria', 'Kenya', 'Other Africa', 'Bulgaria', 'Romania',\n",
              "        'Serbia', 'Chile', 'Indonesia', 'Bahrain', 'Oman', 'Qatar'],\n",
              "       dtype=object),\n",
              " 'dur_stay': array(['1-3  nights', '4-7  nights', '8-14 nights', '15+  nights'],\n",
              "       dtype=object),\n",
              " 'mode': array(['Air', 'Sea', 'Tunnel'], dtype=object),\n",
              " 'purpose': array(['Holiday', 'Business', 'VFR', 'Miscellaneous', 'Study'],\n",
              "       dtype=object),\n",
              " 'area': array([' LONDON'], dtype=object)}"
            ]
          },
          "metadata": {},
          "execution_count": 63
        }
      ]
    },
    {
      "cell_type": "code",
      "source": [
        "# Fix 'area' column by stripping spaces\n",
        "df_cleaned['area'] = df_cleaned['area'].str.strip()\n",
        "\n",
        "# Confirm the fix\n",
        "df_cleaned['area'].unique()\n"
      ],
      "metadata": {
        "colab": {
          "base_uri": "https://localhost:8080/"
        },
        "id": "kjjiNHliz-U_",
        "outputId": "53e76983-b8f6-4c1c-bd2e-987750cb292e"
      },
      "execution_count": 64,
      "outputs": [
        {
          "output_type": "execute_result",
          "data": {
            "text/plain": [
              "array(['LONDON'], dtype=object)"
            ]
          },
          "metadata": {},
          "execution_count": 64
        }
      ]
    }
  ]
}