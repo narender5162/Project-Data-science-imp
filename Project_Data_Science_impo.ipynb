{
  "nbformat": 4,
  "nbformat_minor": 0,
  "metadata": {
    "colab": {
      "provenance": [],
      "authorship_tag": "ABX9TyMOoXLkpXMG9m8avxm0H4Dd",
      "include_colab_link": true
    },
    "kernelspec": {
      "name": "python3",
      "display_name": "Python 3"
    },
    "language_info": {
      "name": "python"
    }
  },
  "cells": [
    {
      "cell_type": "markdown",
      "metadata": {
        "id": "view-in-github",
        "colab_type": "text"
      },
      "source": [
        "<a href=\"https://colab.research.google.com/github/narender5162/Project-Data-science-imp/blob/main/Project_Data_Science_impo.ipynb\" target=\"_parent\"><img src=\"https://colab.research.google.com/assets/colab-badge.svg\" alt=\"Open In Colab\"/></a>"
      ]
    },
    {
      "cell_type": "code",
      "execution_count": 1,
      "metadata": {
        "id": "J0Fzw1glLyUU"
      },
      "outputs": [],
      "source": [
        "#importing library\n",
        "import pandas as pd\n",
        "import numpy as np\n",
        "import seaborn as sns\n",
        "import matplotlib.pyplot as plt\n",
        "from plotly import express as px\n"
      ]
    },
    {
      "cell_type": "code",
      "source": [
        "from google.colab import drive\n",
        "drive.mount('/content/drive')"
      ],
      "metadata": {
        "colab": {
          "base_uri": "https://localhost:8080/"
        },
        "id": "U_Tx6GQcTI7y",
        "outputId": "905da367-2316-4c85-e244-8d38b4a133f1"
      },
      "execution_count": 3,
      "outputs": [
        {
          "output_type": "stream",
          "name": "stdout",
          "text": [
            "Drive already mounted at /content/drive; to attempt to forcibly remount, call drive.mount(\"/content/drive\", force_remount=True).\n"
          ]
        }
      ]
    },
    {
      "cell_type": "markdown",
      "source": [
        "#Importing file"
      ],
      "metadata": {
        "id": "5FYRGhP6ePAr"
      }
    },
    {
      "cell_type": "code",
      "source": [
        "file_path = '/content/drive/MyDrive/international-visitors-london-raw.csv'"
      ],
      "metadata": {
        "id": "7tSLGuQFeNwQ"
      },
      "execution_count": 16,
      "outputs": []
    },
    {
      "cell_type": "code",
      "source": [
        "# Load dataset with encoding fix (handling special characters)\n",
        "df = pd.read_csv(file_path, encoding = \"ISO-8859-1\")\n"
      ],
      "metadata": {
        "id": "p74bK_OAelMZ"
      },
      "execution_count": 18,
      "outputs": []
    },
    {
      "cell_type": "code",
      "source": [
        "# Display the first few rows\n",
        "print (df.head())"
      ],
      "metadata": {
        "colab": {
          "base_uri": "https://localhost:8080/"
        },
        "id": "zqbPJK8agKif",
        "outputId": "e1a95101-8219-415a-d935-776ce63a4574"
      },
      "execution_count": 22,
      "outputs": [
        {
          "output_type": "stream",
          "name": "stdout",
          "text": [
            "   year        quarter   market     dur_stay mode        purpose     area  \\\n",
            "0  2002  January-March  Belgium  1-3  nights  Air        Holiday   LONDON   \n",
            "1  2002  January-March  Belgium  1-3  nights  Air       Business   LONDON   \n",
            "2  2002  January-March  Belgium  1-3  nights  Air            VFR   LONDON   \n",
            "3  2002  January-March  Belgium  1-3  nights  Air  Miscellaneous   LONDON   \n",
            "4  2002  January-March  Belgium  1-3  nights  Sea       Business   LONDON   \n",
            "\n",
            "   Visits (000s)  Spend (£m)  Nights (000s)  sample  \n",
            "0       3.572186    0.969138       6.954456       5  \n",
            "1       9.284226    2.399577      12.604959      19  \n",
            "2       0.877182    0.089833       2.153128       3  \n",
            "3       0.163874    0.010160       0.163874       1  \n",
            "4       1.648670    0.016789       1.650300       1  \n"
          ]
        }
      ]
    }
  ]
}